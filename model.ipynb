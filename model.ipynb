{
  "nbformat": 4,
  "nbformat_minor": 0,
  "metadata": {
    "kernelspec": {
      "display_name": "Python 3",
      "language": "python",
      "name": "python3"
    },
    "language_info": {
      "codemirror_mode": {
        "name": "ipython",
        "version": 3
      },
      "file_extension": ".py",
      "mimetype": "text/x-python",
      "name": "python",
      "nbconvert_exporter": "python",
      "pygments_lexer": "ipython3",
      "version": "3.7.1"
    },
    "colab": {
      "name": "model.ipynb",
      "provenance": []
    }
  },
  "cells": [
    {
      "cell_type": "code",
      "metadata": {
        "id": "4m0SBpxvfRoG"
      },
      "source": [
        "#ML\n",
        "import pandas as pd\n",
        "import numpy as np\n",
        "from sklearn.linear_model import LinearRegression\n",
        "from sklearn.neighbors import KNeighborsRegressor\n",
        "from sklearn.linear_model import Lasso\n",
        "from sklearn.linear_model import Ridge\n",
        "from sklearn.model_selection import GridSearchCV\n",
        "from sklearn import metrics\n",
        "import matplotlib.pyplot as plt\n",
        "import pickle\n",
        "\n",
        "#DL\n",
        "import keras\n",
        "from keras.layers import *\n",
        "from keras.models import *\n"
      ],
      "execution_count": 118,
      "outputs": []
    },
    {
      "cell_type": "code",
      "metadata": {
        "id": "VAwa05bSyRx7",
        "outputId": "cfdc50d2-0c06-4892-e108-77723f7cd1e7",
        "colab": {
          "base_uri": "https://localhost:8080/",
          "height": 204
        }
      },
      "source": [
        "df = pd.read_csv('ipl.csv')\n",
        "df.head()"
      ],
      "execution_count": 81,
      "outputs": [
        {
          "output_type": "execute_result",
          "data": {
            "text/html": [
              "<div>\n",
              "<style scoped>\n",
              "    .dataframe tbody tr th:only-of-type {\n",
              "        vertical-align: middle;\n",
              "    }\n",
              "\n",
              "    .dataframe tbody tr th {\n",
              "        vertical-align: top;\n",
              "    }\n",
              "\n",
              "    .dataframe thead th {\n",
              "        text-align: right;\n",
              "    }\n",
              "</style>\n",
              "<table border=\"1\" class=\"dataframe\">\n",
              "  <thead>\n",
              "    <tr style=\"text-align: right;\">\n",
              "      <th></th>\n",
              "      <th>mid</th>\n",
              "      <th>date</th>\n",
              "      <th>venue</th>\n",
              "      <th>bat_team</th>\n",
              "      <th>bowl_team</th>\n",
              "      <th>batsman</th>\n",
              "      <th>bowler</th>\n",
              "      <th>runs</th>\n",
              "      <th>wickets</th>\n",
              "      <th>overs</th>\n",
              "      <th>runs_last_5</th>\n",
              "      <th>wickets_last_5</th>\n",
              "      <th>striker</th>\n",
              "      <th>non-striker</th>\n",
              "      <th>total</th>\n",
              "    </tr>\n",
              "  </thead>\n",
              "  <tbody>\n",
              "    <tr>\n",
              "      <th>0</th>\n",
              "      <td>1</td>\n",
              "      <td>2008-04-18</td>\n",
              "      <td>M Chinnaswamy Stadium</td>\n",
              "      <td>Kolkata Knight Riders</td>\n",
              "      <td>Royal Challengers Bangalore</td>\n",
              "      <td>SC Ganguly</td>\n",
              "      <td>P Kumar</td>\n",
              "      <td>1</td>\n",
              "      <td>0</td>\n",
              "      <td>0.1</td>\n",
              "      <td>1</td>\n",
              "      <td>0</td>\n",
              "      <td>0</td>\n",
              "      <td>0</td>\n",
              "      <td>222</td>\n",
              "    </tr>\n",
              "    <tr>\n",
              "      <th>1</th>\n",
              "      <td>1</td>\n",
              "      <td>2008-04-18</td>\n",
              "      <td>M Chinnaswamy Stadium</td>\n",
              "      <td>Kolkata Knight Riders</td>\n",
              "      <td>Royal Challengers Bangalore</td>\n",
              "      <td>BB McCullum</td>\n",
              "      <td>P Kumar</td>\n",
              "      <td>1</td>\n",
              "      <td>0</td>\n",
              "      <td>0.2</td>\n",
              "      <td>1</td>\n",
              "      <td>0</td>\n",
              "      <td>0</td>\n",
              "      <td>0</td>\n",
              "      <td>222</td>\n",
              "    </tr>\n",
              "    <tr>\n",
              "      <th>2</th>\n",
              "      <td>1</td>\n",
              "      <td>2008-04-18</td>\n",
              "      <td>M Chinnaswamy Stadium</td>\n",
              "      <td>Kolkata Knight Riders</td>\n",
              "      <td>Royal Challengers Bangalore</td>\n",
              "      <td>BB McCullum</td>\n",
              "      <td>P Kumar</td>\n",
              "      <td>2</td>\n",
              "      <td>0</td>\n",
              "      <td>0.2</td>\n",
              "      <td>2</td>\n",
              "      <td>0</td>\n",
              "      <td>0</td>\n",
              "      <td>0</td>\n",
              "      <td>222</td>\n",
              "    </tr>\n",
              "    <tr>\n",
              "      <th>3</th>\n",
              "      <td>1</td>\n",
              "      <td>2008-04-18</td>\n",
              "      <td>M Chinnaswamy Stadium</td>\n",
              "      <td>Kolkata Knight Riders</td>\n",
              "      <td>Royal Challengers Bangalore</td>\n",
              "      <td>BB McCullum</td>\n",
              "      <td>P Kumar</td>\n",
              "      <td>2</td>\n",
              "      <td>0</td>\n",
              "      <td>0.3</td>\n",
              "      <td>2</td>\n",
              "      <td>0</td>\n",
              "      <td>0</td>\n",
              "      <td>0</td>\n",
              "      <td>222</td>\n",
              "    </tr>\n",
              "    <tr>\n",
              "      <th>4</th>\n",
              "      <td>1</td>\n",
              "      <td>2008-04-18</td>\n",
              "      <td>M Chinnaswamy Stadium</td>\n",
              "      <td>Kolkata Knight Riders</td>\n",
              "      <td>Royal Challengers Bangalore</td>\n",
              "      <td>BB McCullum</td>\n",
              "      <td>P Kumar</td>\n",
              "      <td>2</td>\n",
              "      <td>0</td>\n",
              "      <td>0.4</td>\n",
              "      <td>2</td>\n",
              "      <td>0</td>\n",
              "      <td>0</td>\n",
              "      <td>0</td>\n",
              "      <td>222</td>\n",
              "    </tr>\n",
              "  </tbody>\n",
              "</table>\n",
              "</div>"
            ],
            "text/plain": [
              "   mid        date                  venue  ... striker non-striker total\n",
              "0    1  2008-04-18  M Chinnaswamy Stadium  ...       0           0   222\n",
              "1    1  2008-04-18  M Chinnaswamy Stadium  ...       0           0   222\n",
              "2    1  2008-04-18  M Chinnaswamy Stadium  ...       0           0   222\n",
              "3    1  2008-04-18  M Chinnaswamy Stadium  ...       0           0   222\n",
              "4    1  2008-04-18  M Chinnaswamy Stadium  ...       0           0   222\n",
              "\n",
              "[5 rows x 15 columns]"
            ]
          },
          "metadata": {
            "tags": []
          },
          "execution_count": 81
        }
      ]
    },
    {
      "cell_type": "markdown",
      "metadata": {
        "id": "QN8Rvqaby1gb"
      },
      "source": [
        "# Data Cleaning"
      ]
    },
    {
      "cell_type": "code",
      "metadata": {
        "id": "mHSq_UEEfRob"
      },
      "source": [
        "\n",
        "\n",
        "columns_to_remove = ['striker', 'non-striker','mid', 'venue', 'batsman', 'bowler']\n",
        "df.drop(labels=columns_to_remove, axis=1, inplace=True)"
      ],
      "execution_count": 82,
      "outputs": []
    },
    {
      "cell_type": "code",
      "metadata": {
        "id": "eFh-mjb0fRox"
      },
      "source": [
        "#consistent teams\n",
        "consistent_teams = ['Kolkata Knight Riders', 'Chennai Super Kings', 'Rajasthan Royals',\n",
        "                    'Mumbai Indians', 'Kings XI Punjab', 'Royal Challengers Bangalore',\n",
        "                    'Delhi Daredevils', 'Sunrisers Hyderabad']"
      ],
      "execution_count": 84,
      "outputs": []
    },
    {
      "cell_type": "code",
      "metadata": {
        "id": "PJ5zSM5pfRo3"
      },
      "source": [
        "df = df[(df['bat_team'].isin(consistent_teams)) & (df['bowl_team'].isin(consistent_teams))]"
      ],
      "execution_count": 85,
      "outputs": []
    },
    {
      "cell_type": "code",
      "metadata": {
        "id": "YMerH1mMfRo-"
      },
      "source": [
        "# Removing the first 5 overs data in every match \n",
        "df = df[df['overs']>=5.0]"
      ],
      "execution_count": 86,
      "outputs": []
    },
    {
      "cell_type": "code",
      "metadata": {
        "id": "o99WJbKbfRpG",
        "outputId": "6e98df2e-bdfb-40b6-b3b1-b06875c10005",
        "colab": {
          "base_uri": "https://localhost:8080/",
          "height": 204
        }
      },
      "source": [
        "\n",
        "df.head()"
      ],
      "execution_count": 87,
      "outputs": [
        {
          "output_type": "execute_result",
          "data": {
            "text/html": [
              "<div>\n",
              "<style scoped>\n",
              "    .dataframe tbody tr th:only-of-type {\n",
              "        vertical-align: middle;\n",
              "    }\n",
              "\n",
              "    .dataframe tbody tr th {\n",
              "        vertical-align: top;\n",
              "    }\n",
              "\n",
              "    .dataframe thead th {\n",
              "        text-align: right;\n",
              "    }\n",
              "</style>\n",
              "<table border=\"1\" class=\"dataframe\">\n",
              "  <thead>\n",
              "    <tr style=\"text-align: right;\">\n",
              "      <th></th>\n",
              "      <th>date</th>\n",
              "      <th>bat_team</th>\n",
              "      <th>bowl_team</th>\n",
              "      <th>runs</th>\n",
              "      <th>wickets</th>\n",
              "      <th>overs</th>\n",
              "      <th>runs_last_5</th>\n",
              "      <th>wickets_last_5</th>\n",
              "      <th>total</th>\n",
              "    </tr>\n",
              "  </thead>\n",
              "  <tbody>\n",
              "    <tr>\n",
              "      <th>32</th>\n",
              "      <td>2008-04-18</td>\n",
              "      <td>Kolkata Knight Riders</td>\n",
              "      <td>Royal Challengers Bangalore</td>\n",
              "      <td>61</td>\n",
              "      <td>0</td>\n",
              "      <td>5.1</td>\n",
              "      <td>59</td>\n",
              "      <td>0</td>\n",
              "      <td>222</td>\n",
              "    </tr>\n",
              "    <tr>\n",
              "      <th>33</th>\n",
              "      <td>2008-04-18</td>\n",
              "      <td>Kolkata Knight Riders</td>\n",
              "      <td>Royal Challengers Bangalore</td>\n",
              "      <td>61</td>\n",
              "      <td>1</td>\n",
              "      <td>5.2</td>\n",
              "      <td>59</td>\n",
              "      <td>1</td>\n",
              "      <td>222</td>\n",
              "    </tr>\n",
              "    <tr>\n",
              "      <th>34</th>\n",
              "      <td>2008-04-18</td>\n",
              "      <td>Kolkata Knight Riders</td>\n",
              "      <td>Royal Challengers Bangalore</td>\n",
              "      <td>61</td>\n",
              "      <td>1</td>\n",
              "      <td>5.3</td>\n",
              "      <td>59</td>\n",
              "      <td>1</td>\n",
              "      <td>222</td>\n",
              "    </tr>\n",
              "    <tr>\n",
              "      <th>35</th>\n",
              "      <td>2008-04-18</td>\n",
              "      <td>Kolkata Knight Riders</td>\n",
              "      <td>Royal Challengers Bangalore</td>\n",
              "      <td>61</td>\n",
              "      <td>1</td>\n",
              "      <td>5.4</td>\n",
              "      <td>59</td>\n",
              "      <td>1</td>\n",
              "      <td>222</td>\n",
              "    </tr>\n",
              "    <tr>\n",
              "      <th>36</th>\n",
              "      <td>2008-04-18</td>\n",
              "      <td>Kolkata Knight Riders</td>\n",
              "      <td>Royal Challengers Bangalore</td>\n",
              "      <td>61</td>\n",
              "      <td>1</td>\n",
              "      <td>5.5</td>\n",
              "      <td>58</td>\n",
              "      <td>1</td>\n",
              "      <td>222</td>\n",
              "    </tr>\n",
              "  </tbody>\n",
              "</table>\n",
              "</div>"
            ],
            "text/plain": [
              "          date               bat_team  ... wickets_last_5  total\n",
              "32  2008-04-18  Kolkata Knight Riders  ...              0    222\n",
              "33  2008-04-18  Kolkata Knight Riders  ...              1    222\n",
              "34  2008-04-18  Kolkata Knight Riders  ...              1    222\n",
              "35  2008-04-18  Kolkata Knight Riders  ...              1    222\n",
              "36  2008-04-18  Kolkata Knight Riders  ...              1    222\n",
              "\n",
              "[5 rows x 9 columns]"
            ]
          },
          "metadata": {
            "tags": []
          },
          "execution_count": 87
        }
      ]
    },
    {
      "cell_type": "markdown",
      "metadata": {
        "id": "7pA5hRcwy9JD"
      },
      "source": [
        " # Data Preprocessing"
      ]
    },
    {
      "cell_type": "code",
      "metadata": {
        "id": "xtruVdjS77cl",
        "outputId": "140d7f07-eb67-462a-98ae-b5ce6d0bfeba",
        "colab": {
          "base_uri": "https://localhost:8080/",
          "height": 596
        }
      },
      "source": [
        "#Heat Map\n",
        "corrmat = df.corr()\n",
        "top_corr_features = corrmat.index\n",
        "plt.figure(figsize=(10,10))\n",
        "#plot heat map\n",
        "g=sns.heatmap(df[top_corr_features].corr(),annot=True,cmap=\"RdYlGn\")"
      ],
      "execution_count": 136,
      "outputs": [
        {
          "output_type": "display_data",
          "data": {
            "image/png": "[encoded data removed]",
            "text/plain": [
              "<Figure size 720x720 with 2 Axes>"
            ]
          },
          "metadata": {
            "tags": [],
            "needs_background": "light"
          }
        }
      ]
    },
    {
      "cell_type": "code",
      "metadata": {
        "id": "B5tX1LoUfRpc"
      },
      "source": [
        "#  OneHotEncoding method\n",
        "encoded_df = pd.get_dummies(data=df, columns=['bat_team', 'bowl_team'])"
      ],
      "execution_count": 88,
      "outputs": []
    },
    {
      "cell_type": "code",
      "metadata": {
        "id": "7WWZLEMxfRpn",
        "outputId": "74a4bc95-299f-44b1-907a-5d50e30e2897",
        "colab": {
          "base_uri": "https://localhost:8080/"
        }
      },
      "source": [
        "encoded_df.columns"
      ],
      "execution_count": 89,
      "outputs": [
        {
          "output_type": "execute_result",
          "data": {
            "text/plain": [
              "Index(['date', 'runs', 'wickets', 'overs', 'runs_last_5', 'wickets_last_5',\n",
              "       'total', 'bat_team_Chennai Super Kings', 'bat_team_Delhi Daredevils',\n",
              "       'bat_team_Kings XI Punjab', 'bat_team_Kolkata Knight Riders',\n",
              "       'bat_team_Mumbai Indians', 'bat_team_Rajasthan Royals',\n",
              "       'bat_team_Royal Challengers Bangalore', 'bat_team_Sunrisers Hyderabad',\n",
              "       'bowl_team_Chennai Super Kings', 'bowl_team_Delhi Daredevils',\n",
              "       'bowl_team_Kings XI Punjab', 'bowl_team_Kolkata Knight Riders',\n",
              "       'bowl_team_Mumbai Indians', 'bowl_team_Rajasthan Royals',\n",
              "       'bowl_team_Royal Challengers Bangalore',\n",
              "       'bowl_team_Sunrisers Hyderabad'],\n",
              "      dtype='object')"
            ]
          },
          "metadata": {
            "tags": []
          },
          "execution_count": 89
        }
      ]
    },
    {
      "cell_type": "code",
      "metadata": {
        "id": "Fzg0iOnCfRpt"
      },
      "source": [
        "# Rearranging \n",
        "encoded_df = encoded_df[['date', 'bat_team_Chennai Super Kings', 'bat_team_Delhi Daredevils', 'bat_team_Kings XI Punjab',\n",
        "              'bat_team_Kolkata Knight Riders', 'bat_team_Mumbai Indians', 'bat_team_Rajasthan Royals',\n",
        "              'bat_team_Royal Challengers Bangalore', 'bat_team_Sunrisers Hyderabad',\n",
        "              'bowl_team_Chennai Super Kings', 'bowl_team_Delhi Daredevils', 'bowl_team_Kings XI Punjab',\n",
        "              'bowl_team_Kolkata Knight Riders', 'bowl_team_Mumbai Indians', 'bowl_team_Rajasthan Royals',\n",
        "              'bowl_team_Royal Challengers Bangalore', 'bowl_team_Sunrisers Hyderabad',\n",
        "              'overs', 'runs', 'wickets', 'runs_last_5', 'wickets_last_5', 'total']]"
      ],
      "execution_count": 90,
      "outputs": []
    },
    {
      "cell_type": "code",
      "metadata": {
        "id": "6_7a3PYwz4Wc"
      },
      "source": [
        "from datetime import datetime\n",
        "encoded_df['date'] = encoded_df['date'].apply(lambda x: datetime.strptime(x, '%Y-%m-%d'))"
      ],
      "execution_count": 93,
      "outputs": []
    },
    {
      "cell_type": "code",
      "metadata": {
        "id": "FSEKh9defRpz"
      },
      "source": [
        "# Splitting the data into train and test set\n",
        "X_train = encoded_df.drop(labels='total', axis=1)[encoded_df['date'].dt.year <= 2016]\n",
        "X_test = encoded_df.drop(labels='total', axis=1)[encoded_df['date'].dt.year >= 2017]"
      ],
      "execution_count": 94,
      "outputs": []
    },
    {
      "cell_type": "code",
      "metadata": {
        "id": "Wg_vxgRbfRp-"
      },
      "source": [
        "\n",
        "y_train = encoded_df[encoded_df['date'].dt.year <= 2016]['total'].values\n",
        "y_test = encoded_df[encoded_df['date'].dt.year >= 2017]['total'].values"
      ],
      "execution_count": 95,
      "outputs": []
    },
    {
      "cell_type": "code",
      "metadata": {
        "id": "X-G_Nu-LfRqJ"
      },
      "source": [
        "\n",
        "# Removing the 'date' column\n",
        "X_train.drop(labels='date', axis=True, inplace=True)\n",
        "X_test.drop(labels='date', axis=True, inplace=True)"
      ],
      "execution_count": 96,
      "outputs": []
    },
    {
      "cell_type": "code",
      "metadata": {
        "id": "KuM6_LQ6fRqP",
        "outputId": "f770660e-076c-4f55-b949-aae40850fcde",
        "colab": {
          "base_uri": "https://localhost:8080/",
          "height": 258
        }
      },
      "source": [
        "X_train.head()"
      ],
      "execution_count": 97,
      "outputs": [
        {
          "output_type": "execute_result",
          "data": {
            "text/html": [
              "<div>\n",
              "<style scoped>\n",
              "    .dataframe tbody tr th:only-of-type {\n",
              "        vertical-align: middle;\n",
              "    }\n",
              "\n",
              "    .dataframe tbody tr th {\n",
              "        vertical-align: top;\n",
              "    }\n",
              "\n",
              "    .dataframe thead th {\n",
              "        text-align: right;\n",
              "    }\n",
              "</style>\n",
              "<table border=\"1\" class=\"dataframe\">\n",
              "  <thead>\n",
              "    <tr style=\"text-align: right;\">\n",
              "      <th></th>\n",
              "      <th>bat_team_Chennai Super Kings</th>\n",
              "      <th>bat_team_Delhi Daredevils</th>\n",
              "      <th>bat_team_Kings XI Punjab</th>\n",
              "      <th>bat_team_Kolkata Knight Riders</th>\n",
              "      <th>bat_team_Mumbai Indians</th>\n",
              "      <th>bat_team_Rajasthan Royals</th>\n",
              "      <th>bat_team_Royal Challengers Bangalore</th>\n",
              "      <th>bat_team_Sunrisers Hyderabad</th>\n",
              "      <th>bowl_team_Chennai Super Kings</th>\n",
              "      <th>bowl_team_Delhi Daredevils</th>\n",
              "      <th>bowl_team_Kings XI Punjab</th>\n",
              "      <th>bowl_team_Kolkata Knight Riders</th>\n",
              "      <th>bowl_team_Mumbai Indians</th>\n",
              "      <th>bowl_team_Rajasthan Royals</th>\n",
              "      <th>bowl_team_Royal Challengers Bangalore</th>\n",
              "      <th>bowl_team_Sunrisers Hyderabad</th>\n",
              "      <th>overs</th>\n",
              "      <th>runs</th>\n",
              "      <th>wickets</th>\n",
              "      <th>runs_last_5</th>\n",
              "      <th>wickets_last_5</th>\n",
              "    </tr>\n",
              "  </thead>\n",
              "  <tbody>\n",
              "    <tr>\n",
              "      <th>32</th>\n",
              "      <td>0</td>\n",
              "      <td>0</td>\n",
              "      <td>0</td>\n",
              "      <td>1</td>\n",
              "      <td>0</td>\n",
              "      <td>0</td>\n",
              "      <td>0</td>\n",
              "      <td>0</td>\n",
              "      <td>0</td>\n",
              "      <td>0</td>\n",
              "      <td>0</td>\n",
              "      <td>0</td>\n",
              "      <td>0</td>\n",
              "      <td>0</td>\n",
              "      <td>1</td>\n",
              "      <td>0</td>\n",
              "      <td>5.1</td>\n",
              "      <td>61</td>\n",
              "      <td>0</td>\n",
              "      <td>59</td>\n",
              "      <td>0</td>\n",
              "    </tr>\n",
              "    <tr>\n",
              "      <th>33</th>\n",
              "      <td>0</td>\n",
              "      <td>0</td>\n",
              "      <td>0</td>\n",
              "      <td>1</td>\n",
              "      <td>0</td>\n",
              "      <td>0</td>\n",
              "      <td>0</td>\n",
              "      <td>0</td>\n",
              "      <td>0</td>\n",
              "      <td>0</td>\n",
              "      <td>0</td>\n",
              "      <td>0</td>\n",
              "      <td>0</td>\n",
              "      <td>0</td>\n",
              "      <td>1</td>\n",
              "      <td>0</td>\n",
              "      <td>5.2</td>\n",
              "      <td>61</td>\n",
              "      <td>1</td>\n",
              "      <td>59</td>\n",
              "      <td>1</td>\n",
              "    </tr>\n",
              "    <tr>\n",
              "      <th>34</th>\n",
              "      <td>0</td>\n",
              "      <td>0</td>\n",
              "      <td>0</td>\n",
              "      <td>1</td>\n",
              "      <td>0</td>\n",
              "      <td>0</td>\n",
              "      <td>0</td>\n",
              "      <td>0</td>\n",
              "      <td>0</td>\n",
              "      <td>0</td>\n",
              "      <td>0</td>\n",
              "      <td>0</td>\n",
              "      <td>0</td>\n",
              "      <td>0</td>\n",
              "      <td>1</td>\n",
              "      <td>0</td>\n",
              "      <td>5.3</td>\n",
              "      <td>61</td>\n",
              "      <td>1</td>\n",
              "      <td>59</td>\n",
              "      <td>1</td>\n",
              "    </tr>\n",
              "    <tr>\n",
              "      <th>35</th>\n",
              "      <td>0</td>\n",
              "      <td>0</td>\n",
              "      <td>0</td>\n",
              "      <td>1</td>\n",
              "      <td>0</td>\n",
              "      <td>0</td>\n",
              "      <td>0</td>\n",
              "      <td>0</td>\n",
              "      <td>0</td>\n",
              "      <td>0</td>\n",
              "      <td>0</td>\n",
              "      <td>0</td>\n",
              "      <td>0</td>\n",
              "      <td>0</td>\n",
              "      <td>1</td>\n",
              "      <td>0</td>\n",
              "      <td>5.4</td>\n",
              "      <td>61</td>\n",
              "      <td>1</td>\n",
              "      <td>59</td>\n",
              "      <td>1</td>\n",
              "    </tr>\n",
              "    <tr>\n",
              "      <th>36</th>\n",
              "      <td>0</td>\n",
              "      <td>0</td>\n",
              "      <td>0</td>\n",
              "      <td>1</td>\n",
              "      <td>0</td>\n",
              "      <td>0</td>\n",
              "      <td>0</td>\n",
              "      <td>0</td>\n",
              "      <td>0</td>\n",
              "      <td>0</td>\n",
              "      <td>0</td>\n",
              "      <td>0</td>\n",
              "      <td>0</td>\n",
              "      <td>0</td>\n",
              "      <td>1</td>\n",
              "      <td>0</td>\n",
              "      <td>5.5</td>\n",
              "      <td>61</td>\n",
              "      <td>1</td>\n",
              "      <td>58</td>\n",
              "      <td>1</td>\n",
              "    </tr>\n",
              "  </tbody>\n",
              "</table>\n",
              "</div>"
            ],
            "text/plain": [
              "    bat_team_Chennai Super Kings  ...  wickets_last_5\n",
              "32                             0  ...               0\n",
              "33                             0  ...               1\n",
              "34                             0  ...               1\n",
              "35                             0  ...               1\n",
              "36                             0  ...               1\n",
              "\n",
              "[5 rows x 21 columns]"
            ]
          },
          "metadata": {
            "tags": []
          },
          "execution_count": 97
        }
      ]
    },
    {
      "cell_type": "markdown",
      "metadata": {
        "id": "lbs7Yc7N2Vqt"
      },
      "source": [
        "  # Model Building "
      ]
    },
    {
      "cell_type": "code",
      "metadata": {
        "id": "Au0b5VVRfRqX",
        "outputId": "0508073b-1e61-44d9-d7f0-ec19948109d4",
        "colab": {
          "base_uri": "https://localhost:8080/"
        }
      },
      "source": [
        "\n",
        "## Linear Regression \n",
        "\n",
        "linear_regressor = LinearRegression()\n",
        "linear_regressor.fit(X_train,y_train)"
      ],
      "execution_count": 131,
      "outputs": [
        {
          "output_type": "execute_result",
          "data": {
            "text/plain": [
              "LinearRegression(copy_X=True, fit_intercept=True, n_jobs=None, normalize=False)"
            ]
          },
          "metadata": {
            "tags": []
          },
          "execution_count": 131
        }
      ]
    },
    {
      "cell_type": "code",
      "metadata": {
        "id": "38DwrBHzfRqd"
      },
      "source": [
        "prediction=linear_regressor.predict(X_test)"
      ],
      "execution_count": 132,
      "outputs": []
    },
    {
      "cell_type": "code",
      "metadata": {
        "id": "4nohwDlVfRqi",
        "outputId": "4f2325ac-9ec0-4142-e4cc-7081fd216eb8",
        "colab": {
          "base_uri": "https://localhost:8080/"
        }
      },
      "source": [
        "\n",
        "print('MAE:', metrics.mean_absolute_error(y_test, prediction))\n",
        "print('MSE:', metrics.mean_squared_error(y_test, prediction))\n",
        "print('RMSE:', np.sqrt(metrics.mean_squared_error(y_test, prediction)))"
      ],
      "execution_count": 133,
      "outputs": [
        {
          "output_type": "stream",
          "text": [
            "MAE: 12.11861754619329\n",
            "MSE: 251.00792310417438\n",
            "RMSE: 15.843229566732106\n"
          ],
          "name": "stdout"
        }
      ]
    },
    {
      "cell_type": "code",
      "metadata": {
        "id": "Uez-GcAXfRqm",
        "outputId": "8bd904b0-7f9f-41b3-dba6-cdc21588a29d",
        "colab": {
          "base_uri": "https://localhost:8080/"
        }
      },
      "source": [
        "## Ridge Regression\n",
        "\n",
        "ridge=Ridge()\n",
        "parameters={'alpha':[1e-15,1e-10,1e-8,1e-3,1e-2,1,5,10,20,30,35,40]}\n",
        "ridge_regressor=GridSearchCV(ridge,parameters,cv=10)\n",
        "ridge_regressor.fit(X_train,y_train)"
      ],
      "execution_count": 105,
      "outputs": [
        {
          "output_type": "stream",
          "text": [
            "/usr/local/lib/python3.6/dist-packages/sklearn/linear_model/_ridge.py:148: LinAlgWarning: Ill-conditioned matrix (rcond=4.34015e-20): result may not be accurate.\n",
            "  overwrite_a=True).T\n",
            "/usr/local/lib/python3.6/dist-packages/sklearn/linear_model/_ridge.py:148: LinAlgWarning: Ill-conditioned matrix (rcond=1.44508e-18): result may not be accurate.\n",
            "  overwrite_a=True).T\n",
            "/usr/local/lib/python3.6/dist-packages/sklearn/linear_model/_ridge.py:148: LinAlgWarning: Ill-conditioned matrix (rcond=1.30892e-18): result may not be accurate.\n",
            "  overwrite_a=True).T\n",
            "/usr/local/lib/python3.6/dist-packages/sklearn/linear_model/_ridge.py:148: LinAlgWarning: Ill-conditioned matrix (rcond=1.24267e-18): result may not be accurate.\n",
            "  overwrite_a=True).T\n",
            "/usr/local/lib/python3.6/dist-packages/sklearn/linear_model/_ridge.py:148: LinAlgWarning: Ill-conditioned matrix (rcond=1.32567e-18): result may not be accurate.\n",
            "  overwrite_a=True).T\n",
            "/usr/local/lib/python3.6/dist-packages/sklearn/linear_model/_ridge.py:148: LinAlgWarning: Ill-conditioned matrix (rcond=1.38097e-18): result may not be accurate.\n",
            "  overwrite_a=True).T\n",
            "/usr/local/lib/python3.6/dist-packages/sklearn/linear_model/_ridge.py:148: LinAlgWarning: Ill-conditioned matrix (rcond=1.30002e-18): result may not be accurate.\n",
            "  overwrite_a=True).T\n",
            "/usr/local/lib/python3.6/dist-packages/sklearn/linear_model/_ridge.py:148: LinAlgWarning: Ill-conditioned matrix (rcond=1.35042e-18): result may not be accurate.\n",
            "  overwrite_a=True).T\n",
            "/usr/local/lib/python3.6/dist-packages/sklearn/linear_model/_ridge.py:148: LinAlgWarning: Ill-conditioned matrix (rcond=1.39538e-18): result may not be accurate.\n",
            "  overwrite_a=True).T\n",
            "/usr/local/lib/python3.6/dist-packages/sklearn/linear_model/_ridge.py:148: LinAlgWarning: Ill-conditioned matrix (rcond=1.36852e-18): result may not be accurate.\n",
            "  overwrite_a=True).T\n",
            "/usr/local/lib/python3.6/dist-packages/sklearn/linear_model/_ridge.py:148: LinAlgWarning: Ill-conditioned matrix (rcond=1.26703e-18): result may not be accurate.\n",
            "  overwrite_a=True).T\n"
          ],
          "name": "stderr"
        },
        {
          "output_type": "execute_result",
          "data": {
            "text/plain": [
              "GridSearchCV(cv=10, error_score=nan,\n",
              "             estimator=Ridge(alpha=1.0, copy_X=True, fit_intercept=True,\n",
              "                             max_iter=None, normalize=False, random_state=None,\n",
              "                             solver='auto', tol=0.001),\n",
              "             iid='deprecated', n_jobs=None,\n",
              "             param_grid={'alpha': [1e-15, 1e-10, 1e-08, 0.001, 0.01, 1, 5, 10,\n",
              "                                   20, 30, 35, 40]},\n",
              "             pre_dispatch='2*n_jobs', refit=True, return_train_score=False,\n",
              "             scoring=None, verbose=0)"
            ]
          },
          "metadata": {
            "tags": []
          },
          "execution_count": 105
        }
      ]
    },
    {
      "cell_type": "code",
      "metadata": {
        "id": "8bhrpKULfRqv",
        "outputId": "8fd3f343-5099-490a-f281-eadcb67db64e",
        "colab": {
          "base_uri": "https://localhost:8080/"
        }
      },
      "source": [
        "print(ridge_regressor.best_params_)\n",
        "print(ridge_regressor.best_score_)"
      ],
      "execution_count": 106,
      "outputs": [
        {
          "output_type": "stream",
          "text": [
            "{'alpha': 40}\n",
            "0.5984510296073956\n"
          ],
          "name": "stdout"
        }
      ]
    },
    {
      "cell_type": "code",
      "metadata": {
        "id": "1sHvenCifRq0"
      },
      "source": [
        "prediction=ridge_regressor.predict(X_test)"
      ],
      "execution_count": 107,
      "outputs": []
    },
    {
      "cell_type": "code",
      "metadata": {
        "id": "ItcZM-iIfRq4",
        "outputId": "9a4794d7-76bf-462b-ca54-5e4da3768ddd",
        "colab": {
          "base_uri": "https://localhost:8080/"
        }
      },
      "source": [
        "print('MAE:', metrics.mean_absolute_error(y_test, prediction))\n",
        "print('MSE:', metrics.mean_squared_error(y_test, prediction))\n",
        "print('RMSE:', np.sqrt(metrics.mean_squared_error(y_test, prediction)))"
      ],
      "execution_count": 108,
      "outputs": [
        {
          "output_type": "stream",
          "text": [
            "MAE: 12.117294527005022\n",
            "MSE: 251.03172964112716\n",
            "RMSE: 15.843980864704651\n"
          ],
          "name": "stdout"
        }
      ]
    },
    {
      "cell_type": "code",
      "metadata": {
        "id": "_6rBU7yMfRrA",
        "outputId": "fc789814-256c-4c2f-9076-80aef32976f8",
        "colab": {
          "base_uri": "https://localhost:8080/"
        }
      },
      "source": [
        "## Lasso Regression\n",
        "lasso=Lasso()\n",
        "parameters={'alpha':[1e-15,1e-10,1e-8,1e-3,1e-2,1,5,10,20,30,35,40]}\n",
        "lasso_regressor=GridSearchCV(lasso,parameters,scoring='neg_mean_squared_error',cv=5)\n",
        "\n",
        "lasso_regressor.fit(X_train,y_train)\n",
        "print(lasso_regressor.best_params_)\n",
        "print(lasso_regressor.best_score_)"
      ],
      "execution_count": 109,
      "outputs": [
        {
          "output_type": "stream",
          "text": [
            "/usr/local/lib/python3.6/dist-packages/sklearn/linear_model/_coordinate_descent.py:476: ConvergenceWarning: Objective did not converge. You might want to increase the number of iterations. Duality gap: 4551025.751773752, tolerance: 2529.9556965945594\n",
            "  positive)\n",
            "/usr/local/lib/python3.6/dist-packages/sklearn/linear_model/_coordinate_descent.py:476: ConvergenceWarning: Objective did not converge. You might want to increase the number of iterations. Duality gap: 4460509.8528243825, tolerance: 2547.038071028663\n",
            "  positive)\n",
            "/usr/local/lib/python3.6/dist-packages/sklearn/linear_model/_coordinate_descent.py:476: ConvergenceWarning: Objective did not converge. You might want to increase the number of iterations. Duality gap: 4658253.604100358, tolerance: 2667.8126904366486\n",
            "  positive)\n",
            "/usr/local/lib/python3.6/dist-packages/sklearn/linear_model/_coordinate_descent.py:476: ConvergenceWarning: Objective did not converge. You might want to increase the number of iterations. Duality gap: 4332382.442271176, tolerance: 2712.3488913976626\n",
            "  positive)\n",
            "/usr/local/lib/python3.6/dist-packages/sklearn/linear_model/_coordinate_descent.py:476: ConvergenceWarning: Objective did not converge. You might want to increase the number of iterations. Duality gap: 4480926.07454495, tolerance: 2646.143766019281\n",
            "  positive)\n",
            "/usr/local/lib/python3.6/dist-packages/sklearn/linear_model/_coordinate_descent.py:476: ConvergenceWarning: Objective did not converge. You might want to increase the number of iterations. Duality gap: 589205.7377810962, tolerance: 2529.9556965945594\n",
            "  positive)\n",
            "/usr/local/lib/python3.6/dist-packages/sklearn/linear_model/_coordinate_descent.py:476: ConvergenceWarning: Objective did not converge. You might want to increase the number of iterations. Duality gap: 482836.53405242786, tolerance: 2547.038071028663\n",
            "  positive)\n",
            "/usr/local/lib/python3.6/dist-packages/sklearn/linear_model/_coordinate_descent.py:476: ConvergenceWarning: Objective did not converge. You might want to increase the number of iterations. Duality gap: 253598.62256860826, tolerance: 2667.8126904366486\n",
            "  positive)\n",
            "/usr/local/lib/python3.6/dist-packages/sklearn/linear_model/_coordinate_descent.py:476: ConvergenceWarning: Objective did not converge. You might want to increase the number of iterations. Duality gap: 273554.99671274796, tolerance: 2712.3488913976626\n",
            "  positive)\n",
            "/usr/local/lib/python3.6/dist-packages/sklearn/linear_model/_coordinate_descent.py:476: ConvergenceWarning: Objective did not converge. You might want to increase the number of iterations. Duality gap: 328228.8160979636, tolerance: 2646.143766019281\n",
            "  positive)\n",
            "/usr/local/lib/python3.6/dist-packages/sklearn/linear_model/_coordinate_descent.py:476: ConvergenceWarning: Objective did not converge. You might want to increase the number of iterations. Duality gap: 589202.6298430525, tolerance: 2529.9556965945594\n",
            "  positive)\n",
            "/usr/local/lib/python3.6/dist-packages/sklearn/linear_model/_coordinate_descent.py:476: ConvergenceWarning: Objective did not converge. You might want to increase the number of iterations. Duality gap: 482835.82033604756, tolerance: 2547.038071028663\n",
            "  positive)\n",
            "/usr/local/lib/python3.6/dist-packages/sklearn/linear_model/_coordinate_descent.py:476: ConvergenceWarning: Objective did not converge. You might want to increase the number of iterations. Duality gap: 253599.46165756974, tolerance: 2667.8126904366486\n",
            "  positive)\n",
            "/usr/local/lib/python3.6/dist-packages/sklearn/linear_model/_coordinate_descent.py:476: ConvergenceWarning: Objective did not converge. You might want to increase the number of iterations. Duality gap: 273552.77476824913, tolerance: 2712.3488913976626\n",
            "  positive)\n",
            "/usr/local/lib/python3.6/dist-packages/sklearn/linear_model/_coordinate_descent.py:476: ConvergenceWarning: Objective did not converge. You might want to increase the number of iterations. Duality gap: 328228.1914547272, tolerance: 2646.143766019281\n",
            "  positive)\n"
          ],
          "name": "stderr"
        },
        {
          "output_type": "stream",
          "text": [
            "{'alpha': 1}\n",
            "-320.8263789858526\n"
          ],
          "name": "stdout"
        }
      ]
    },
    {
      "cell_type": "code",
      "metadata": {
        "id": "M5uSznWTfRrD"
      },
      "source": [
        "prediction=lasso_regressor.predict(X_test)"
      ],
      "execution_count": 110,
      "outputs": []
    },
    {
      "cell_type": "code",
      "metadata": {
        "id": "5DxuMX_wfRrG",
        "outputId": "9ec23521-1ab2-4f3d-8358-464c4e56ae81",
        "colab": {
          "base_uri": "https://localhost:8080/"
        }
      },
      "source": [
        "print('MAE:', metrics.mean_absolute_error(y_test, prediction))\n",
        "print('MSE:', metrics.mean_squared_error(y_test, prediction))\n",
        "print('RMSE:', np.sqrt(metrics.mean_squared_error(y_test, prediction)))"
      ],
      "execution_count": 111,
      "outputs": [
        {
          "output_type": "stream",
          "text": [
            "MAE: 12.214053814850246\n",
            "MSE: 262.3797366400716\n",
            "RMSE: 16.198139912967527\n"
          ],
          "name": "stdout"
        }
      ]
    },
    {
      "cell_type": "code",
      "metadata": {
        "id": "UKx9GJ_ifRrO",
        "outputId": "b269cae1-b34c-4a2e-c285-d0896cec2da0",
        "colab": {
          "base_uri": "https://localhost:8080/"
        }
      },
      "source": [
        "## K-Nearest Neighbour Regression\n",
        "knn = KNeighborsRegressor(n_neighbors=1)\n",
        "knn.fit(X_train,y_train)"
      ],
      "execution_count": 113,
      "outputs": [
        {
          "output_type": "execute_result",
          "data": {
            "text/plain": [
              "KNeighborsRegressor(algorithm='auto', leaf_size=30, metric='minkowski',\n",
              "                    metric_params=None, n_jobs=None, n_neighbors=1, p=2,\n",
              "                    weights='uniform')"
            ]
          },
          "metadata": {
            "tags": []
          },
          "execution_count": 113
        }
      ]
    },
    {
      "cell_type": "code",
      "metadata": {
        "id": "IYWOIJtrfRrQ"
      },
      "source": [
        "prediction=knn.predict(X_test)\n",
        "\n"
      ],
      "execution_count": 114,
      "outputs": []
    },
    {
      "cell_type": "code",
      "metadata": {
        "id": "jGV5qcxf4P3D",
        "outputId": "adf50b22-810d-45ec-dec5-d3fa53b03c09",
        "colab": {
          "base_uri": "https://localhost:8080/"
        }
      },
      "source": [
        "print('MAE:', metrics.mean_absolute_error(y_test, prediction))\n",
        "print('MSE:', metrics.mean_squared_error(y_test, prediction))\n",
        "print('RMSE:', np.sqrt(metrics.mean_squared_error(y_test, prediction)))"
      ],
      "execution_count": 115,
      "outputs": [
        {
          "output_type": "stream",
          "text": [
            "MAE: 17.992080633549318\n",
            "MSE: 609.5997120230381\n",
            "RMSE: 24.69007314738128\n"
          ],
          "name": "stdout"
        }
      ]
    },
    {
      "cell_type": "code",
      "metadata": {
        "id": "bTU62b2e4YkF"
      },
      "source": [
        "error_rate = []\n",
        "\n",
        "# Will take some time\n",
        "for i in range(1,40):\n",
        "    \n",
        "    knn = KNeighborsRegressor(n_neighbors=i)\n",
        "    knn.fit(X_train,y_train)\n",
        "    pred_i = knn.predict(X_test)\n",
        "    error_rate.append(np.mean(abs(pred_i-y_test)))"
      ],
      "execution_count": 116,
      "outputs": []
    },
    {
      "cell_type": "code",
      "metadata": {
        "id": "FfMXt5R34Y-Z",
        "outputId": "a56d51dd-fcf1-4a09-f26b-5857b97662bc",
        "colab": {
          "base_uri": "https://localhost:8080/",
          "height": 421
        }
      },
      "source": [
        "plt.figure(figsize=(10,6))\n",
        "plt.plot(range(1,40),error_rate,color='blue', linestyle='dashed', marker='o',\n",
        "         markerfacecolor='red', markersize=10)\n",
        "plt.title('Error Rate vs. K Value')\n",
        "plt.xlabel('K')\n",
        "plt.ylabel('Error Rate')"
      ],
      "execution_count": 119,
      "outputs": [
        {
          "output_type": "execute_result",
          "data": {
            "text/plain": [
              "Text(0, 0.5, 'Error Rate')"
            ]
          },
          "metadata": {
            "tags": []
          },
          "execution_count": 119
        },
        {
          "output_type": "display_data",
          "data": {
            "image/png": "[encoded data removed]",
            "text/plain": [
              "<Figure size 720x432 with 1 Axes>"
            ]
          },
          "metadata": {
            "tags": [],
            "needs_background": "light"
          }
        }
      ]
    },
    {
      "cell_type": "code",
      "metadata": {
        "id": "8Srp48fN4YML",
        "outputId": "71df6c6b-6d72-45ae-b088-751e5c95fc1f",
        "colab": {
          "base_uri": "https://localhost:8080/"
        }
      },
      "source": [
        "knn = KNeighborsRegressor(n_neighbors=18)\n",
        "knn.fit(X_train,y_train)"
      ],
      "execution_count": 120,
      "outputs": [
        {
          "output_type": "execute_result",
          "data": {
            "text/plain": [
              "KNeighborsRegressor(algorithm='auto', leaf_size=30, metric='minkowski',\n",
              "                    metric_params=None, n_jobs=None, n_neighbors=18, p=2,\n",
              "                    weights='uniform')"
            ]
          },
          "metadata": {
            "tags": []
          },
          "execution_count": 120
        }
      ]
    },
    {
      "cell_type": "code",
      "metadata": {
        "id": "ml6a4LFm4uHe"
      },
      "source": [
        "prediction=knn.predict(X_test)"
      ],
      "execution_count": 121,
      "outputs": []
    },
    {
      "cell_type": "code",
      "metadata": {
        "id": "TmhHaPjc4uUW",
        "outputId": "90a7e993-aafb-4d6c-a9bc-03c8d974fae9",
        "colab": {
          "base_uri": "https://localhost:8080/"
        }
      },
      "source": [
        "print('MAE:', metrics.mean_absolute_error(y_test, prediction))\n",
        "print('MSE:', metrics.mean_squared_error(y_test, prediction))\n",
        "print('RMSE:', np.sqrt(metrics.mean_squared_error(y_test, prediction)))"
      ],
      "execution_count": 122,
      "outputs": [
        {
          "output_type": "stream",
          "text": [
            "MAE: 14.331353491720662\n",
            "MSE: 350.9480252690896\n",
            "RMSE: 18.73360684089131\n"
          ],
          "name": "stdout"
        }
      ]
    },
    {
      "cell_type": "code",
      "metadata": {
        "id": "3J_z9P6gmYMK"
      },
      "source": [
        "X_train =np.array(X_train)"
      ],
      "execution_count": 64,
      "outputs": []
    },
    {
      "cell_type": "code",
      "metadata": {
        "id": "LqPKLA9hj9O1"
      },
      "source": [
        "model = Sequential()\n",
        "model.add(Dense(32,input_dim=21,activation='relu'))\n",
        "model.add(Dense(16,activation='relu'))\n",
        "model.add(Dense(1,activation='linear'))"
      ],
      "execution_count": 123,
      "outputs": []
    },
    {
      "cell_type": "code",
      "metadata": {
        "id": "tQIzPokckY_z",
        "outputId": "02e6f97c-1f4d-4261-a527-7ce088ff4bb9",
        "colab": {
          "base_uri": "https://localhost:8080/"
        }
      },
      "source": [
        "model.summary()"
      ],
      "execution_count": 124,
      "outputs": [
        {
          "output_type": "stream",
          "text": [
            "Model: \"sequential_11\"\n",
            "_________________________________________________________________\n",
            "Layer (type)                 Output Shape              Param #   \n",
            "=================================================================\n",
            "dense_18 (Dense)             (None, 32)                704       \n",
            "_________________________________________________________________\n",
            "dense_19 (Dense)             (None, 16)                528       \n",
            "_________________________________________________________________\n",
            "dense_20 (Dense)             (None, 1)                 17        \n",
            "=================================================================\n",
            "Total params: 1,249\n",
            "Trainable params: 1,249\n",
            "Non-trainable params: 0\n",
            "_________________________________________________________________\n"
          ],
          "name": "stdout"
        }
      ]
    },
    {
      "cell_type": "code",
      "metadata": {
        "id": "ayOLL-eikh1y"
      },
      "source": [
        "model.compile(optimizer=\"adam\",loss=\"mean_squared_error\")"
      ],
      "execution_count": 125,
      "outputs": []
    },
    {
      "cell_type": "code",
      "metadata": {
        "id": "OCpwX5UCmCKC",
        "outputId": "15175f8b-b8f3-4180-e9ee-8f84c6d4c484",
        "colab": {
          "base_uri": "https://localhost:8080/"
        }
      },
      "source": [
        "model.fit(X_train,y_train,batch_size=32,epochs=100, validation_split=0.1,verbose=1)"
      ],
      "execution_count": 126,
      "outputs": [
        {
          "output_type": "stream",
          "text": [
            "Epoch 1/100\n",
            "1050/1050 [==============================] - 1s 1ms/step - loss: 3950.4521 - val_loss: 1095.6803\n",
            "Epoch 2/100\n",
            "1050/1050 [==============================] - 1s 1ms/step - loss: 968.3849 - val_loss: 883.1978\n",
            "Epoch 3/100\n",
            "1050/1050 [==============================] - 1s 1ms/step - loss: 735.1210 - val_loss: 656.4218\n",
            "Epoch 4/100\n",
            "1050/1050 [==============================] - 1s 843us/step - loss: 523.2156 - val_loss: 472.7589\n",
            "Epoch 5/100\n",
            "1050/1050 [==============================] - 1s 1ms/step - loss: 423.6006 - val_loss: 400.8472\n",
            "Epoch 6/100\n",
            "1050/1050 [==============================] - 1s 1ms/step - loss: 371.4032 - val_loss: 372.7242\n",
            "Epoch 7/100\n",
            "1050/1050 [==============================] - 1s 1ms/step - loss: 338.9336 - val_loss: 331.0630\n",
            "Epoch 8/100\n",
            "1050/1050 [==============================] - 1s 1ms/step - loss: 325.7828 - val_loss: 309.8860\n",
            "Epoch 9/100\n",
            "1050/1050 [==============================] - 1s 1ms/step - loss: 318.8209 - val_loss: 330.0028\n",
            "Epoch 10/100\n",
            "1050/1050 [==============================] - 1s 1ms/step - loss: 315.4301 - val_loss: 317.8764\n",
            "Epoch 11/100\n",
            "1050/1050 [==============================] - 1s 1ms/step - loss: 314.6807 - val_loss: 323.0475\n",
            "Epoch 12/100\n",
            "1050/1050 [==============================] - 1s 1ms/step - loss: 313.7741 - val_loss: 291.9130\n",
            "Epoch 13/100\n",
            "1050/1050 [==============================] - 1s 1ms/step - loss: 310.7377 - val_loss: 291.1731\n",
            "Epoch 14/100\n",
            "1050/1050 [==============================] - 1s 953us/step - loss: 307.5898 - val_loss: 291.9077\n",
            "Epoch 15/100\n",
            "1050/1050 [==============================] - 1s 1ms/step - loss: 308.4886 - val_loss: 288.1730\n",
            "Epoch 16/100\n",
            "1050/1050 [==============================] - 1s 1ms/step - loss: 304.1836 - val_loss: 293.6136\n",
            "Epoch 17/100\n",
            "1050/1050 [==============================] - 1s 1ms/step - loss: 304.0523 - val_loss: 287.3377\n",
            "Epoch 18/100\n",
            "1050/1050 [==============================] - 1s 1ms/step - loss: 300.1478 - val_loss: 287.7041\n",
            "Epoch 19/100\n",
            "1050/1050 [==============================] - 1s 1ms/step - loss: 298.4456 - val_loss: 278.7503\n",
            "Epoch 20/100\n",
            "1050/1050 [==============================] - 1s 1ms/step - loss: 297.1457 - val_loss: 289.6966\n",
            "Epoch 21/100\n",
            "1050/1050 [==============================] - 1s 1ms/step - loss: 298.0222 - val_loss: 293.7467\n",
            "Epoch 22/100\n",
            "1050/1050 [==============================] - 1s 925us/step - loss: 294.4241 - val_loss: 283.3297\n",
            "Epoch 23/100\n",
            "1050/1050 [==============================] - 1s 824us/step - loss: 294.7929 - val_loss: 276.4990\n",
            "Epoch 24/100\n",
            "1050/1050 [==============================] - 1s 1ms/step - loss: 295.0844 - val_loss: 288.9940\n",
            "Epoch 25/100\n",
            "1050/1050 [==============================] - 1s 1ms/step - loss: 293.1411 - val_loss: 275.4551\n",
            "Epoch 26/100\n",
            "1050/1050 [==============================] - 1s 1ms/step - loss: 293.3051 - val_loss: 273.1318\n",
            "Epoch 27/100\n",
            "1050/1050 [==============================] - 1s 1ms/step - loss: 292.2787 - val_loss: 279.3653\n",
            "Epoch 28/100\n",
            "1050/1050 [==============================] - 1s 1ms/step - loss: 290.4918 - val_loss: 273.6186\n",
            "Epoch 29/100\n",
            "1050/1050 [==============================] - 1s 1ms/step - loss: 290.4944 - val_loss: 272.0324\n",
            "Epoch 30/100\n",
            "1050/1050 [==============================] - 1s 929us/step - loss: 290.5244 - val_loss: 278.6150\n",
            "Epoch 31/100\n",
            "1050/1050 [==============================] - 1s 1ms/step - loss: 288.9513 - val_loss: 275.9597\n",
            "Epoch 32/100\n",
            "1050/1050 [==============================] - 1s 1ms/step - loss: 288.9288 - val_loss: 270.8365\n",
            "Epoch 33/100\n",
            "1050/1050 [==============================] - 1s 1ms/step - loss: 287.1586 - val_loss: 270.1544\n",
            "Epoch 34/100\n",
            "1050/1050 [==============================] - 1s 1ms/step - loss: 287.4667 - val_loss: 272.8297\n",
            "Epoch 35/100\n",
            "1050/1050 [==============================] - 1s 1ms/step - loss: 286.1018 - val_loss: 292.7008\n",
            "Epoch 36/100\n",
            "1050/1050 [==============================] - 1s 1ms/step - loss: 286.9569 - val_loss: 270.7349\n",
            "Epoch 37/100\n",
            "1050/1050 [==============================] - 1s 1ms/step - loss: 286.8068 - val_loss: 294.5445\n",
            "Epoch 38/100\n",
            "1050/1050 [==============================] - 1s 947us/step - loss: 284.3966 - val_loss: 267.9171\n",
            "Epoch 39/100\n",
            "1050/1050 [==============================] - 1s 1ms/step - loss: 283.6188 - val_loss: 281.6374\n",
            "Epoch 40/100\n",
            "1050/1050 [==============================] - 1s 1ms/step - loss: 285.0774 - val_loss: 267.2084\n",
            "Epoch 41/100\n",
            "1050/1050 [==============================] - 1s 969us/step - loss: 282.1373 - val_loss: 262.1863\n",
            "Epoch 42/100\n",
            "1050/1050 [==============================] - 1s 1ms/step - loss: 279.6468 - val_loss: 275.3575\n",
            "Epoch 43/100\n",
            "1050/1050 [==============================] - 1s 1ms/step - loss: 281.0594 - val_loss: 265.9686\n",
            "Epoch 44/100\n",
            "1050/1050 [==============================] - 1s 1ms/step - loss: 278.6364 - val_loss: 283.7119\n",
            "Epoch 45/100\n",
            "1050/1050 [==============================] - 1s 919us/step - loss: 278.3961 - val_loss: 256.6751\n",
            "Epoch 46/100\n",
            "1050/1050 [==============================] - 1s 1ms/step - loss: 277.1438 - val_loss: 265.1970\n",
            "Epoch 47/100\n",
            "1050/1050 [==============================] - 1s 1ms/step - loss: 275.5367 - val_loss: 260.4347\n",
            "Epoch 48/100\n",
            "1050/1050 [==============================] - 1s 1ms/step - loss: 274.0774 - val_loss: 294.7419\n",
            "Epoch 49/100\n",
            "1050/1050 [==============================] - 1s 1ms/step - loss: 272.8112 - val_loss: 260.3446\n",
            "Epoch 50/100\n",
            "1050/1050 [==============================] - 1s 1ms/step - loss: 273.1199 - val_loss: 279.1750\n",
            "Epoch 51/100\n",
            "1050/1050 [==============================] - 1s 1ms/step - loss: 273.1681 - val_loss: 270.5211\n",
            "Epoch 52/100\n",
            "1050/1050 [==============================] - 1s 1ms/step - loss: 270.2853 - val_loss: 278.2184\n",
            "Epoch 53/100\n",
            "1050/1050 [==============================] - 1s 1ms/step - loss: 268.9010 - val_loss: 262.8205\n",
            "Epoch 54/100\n",
            "1050/1050 [==============================] - 1s 1ms/step - loss: 268.0826 - val_loss: 264.0475\n",
            "Epoch 55/100\n",
            "1050/1050 [==============================] - 1s 964us/step - loss: 269.0415 - val_loss: 263.7128\n",
            "Epoch 56/100\n",
            "1050/1050 [==============================] - 1s 1ms/step - loss: 265.6051 - val_loss: 256.3951\n",
            "Epoch 57/100\n",
            "1050/1050 [==============================] - 1s 1ms/step - loss: 266.5827 - val_loss: 254.2634\n",
            "Epoch 58/100\n",
            "1050/1050 [==============================] - 1s 970us/step - loss: 265.5833 - val_loss: 252.6187\n",
            "Epoch 59/100\n",
            "1050/1050 [==============================] - 1s 917us/step - loss: 265.0947 - val_loss: 252.1451\n",
            "Epoch 60/100\n",
            "1050/1050 [==============================] - 1s 1ms/step - loss: 265.6851 - val_loss: 257.4407\n",
            "Epoch 61/100\n",
            "1050/1050 [==============================] - 1s 1ms/step - loss: 265.7500 - val_loss: 280.4299\n",
            "Epoch 62/100\n",
            "1050/1050 [==============================] - 1s 1ms/step - loss: 262.9654 - val_loss: 259.9410\n",
            "Epoch 63/100\n",
            "1050/1050 [==============================] - 1s 1ms/step - loss: 262.8924 - val_loss: 258.1923\n",
            "Epoch 64/100\n",
            "1050/1050 [==============================] - 1s 1ms/step - loss: 263.1664 - val_loss: 259.7325\n",
            "Epoch 65/100\n",
            "1050/1050 [==============================] - 1s 1ms/step - loss: 261.7436 - val_loss: 252.1033\n",
            "Epoch 66/100\n",
            "1050/1050 [==============================] - 1s 1ms/step - loss: 261.7997 - val_loss: 253.2225\n",
            "Epoch 67/100\n",
            "1050/1050 [==============================] - 1s 1ms/step - loss: 261.3188 - val_loss: 261.4249\n",
            "Epoch 68/100\n",
            "1050/1050 [==============================] - 1s 1ms/step - loss: 260.7403 - val_loss: 251.3693\n",
            "Epoch 69/100\n",
            "1050/1050 [==============================] - 1s 1ms/step - loss: 260.6151 - val_loss: 261.3816\n",
            "Epoch 70/100\n",
            "1050/1050 [==============================] - 1s 1ms/step - loss: 260.5972 - val_loss: 258.9481\n",
            "Epoch 71/100\n",
            "1050/1050 [==============================] - 1s 981us/step - loss: 259.7210 - val_loss: 263.4412\n",
            "Epoch 72/100\n",
            "1050/1050 [==============================] - 1s 1ms/step - loss: 260.8565 - val_loss: 245.7228\n",
            "Epoch 73/100\n",
            "1050/1050 [==============================] - 1s 976us/step - loss: 259.1629 - val_loss: 257.5924\n",
            "Epoch 74/100\n",
            "1050/1050 [==============================] - 1s 1ms/step - loss: 260.1030 - val_loss: 254.7869\n",
            "Epoch 75/100\n",
            "1050/1050 [==============================] - 1s 1ms/step - loss: 259.4968 - val_loss: 262.5129\n",
            "Epoch 76/100\n",
            "1050/1050 [==============================] - 1s 1ms/step - loss: 258.3868 - val_loss: 270.5129\n",
            "Epoch 77/100\n",
            "1050/1050 [==============================] - 1s 969us/step - loss: 257.8837 - val_loss: 256.6839\n",
            "Epoch 78/100\n",
            "1050/1050 [==============================] - 1s 1ms/step - loss: 259.3929 - val_loss: 254.9934\n",
            "Epoch 79/100\n",
            "1050/1050 [==============================] - 1s 1ms/step - loss: 257.8141 - val_loss: 247.6671\n",
            "Epoch 80/100\n",
            "1050/1050 [==============================] - 1s 1ms/step - loss: 257.6292 - val_loss: 277.6607\n",
            "Epoch 81/100\n",
            "1050/1050 [==============================] - 1s 1ms/step - loss: 258.2507 - val_loss: 250.2836\n",
            "Epoch 82/100\n",
            "1050/1050 [==============================] - 1s 1ms/step - loss: 257.1100 - val_loss: 258.6158\n",
            "Epoch 83/100\n",
            "1050/1050 [==============================] - 1s 1ms/step - loss: 255.7590 - val_loss: 259.9771\n",
            "Epoch 84/100\n",
            "1050/1050 [==============================] - 1s 1ms/step - loss: 256.8240 - val_loss: 279.7451\n",
            "Epoch 85/100\n",
            "1050/1050 [==============================] - 1s 1ms/step - loss: 257.7510 - val_loss: 260.7222\n",
            "Epoch 86/100\n",
            "1050/1050 [==============================] - 1s 1ms/step - loss: 256.2078 - val_loss: 268.4742\n",
            "Epoch 87/100\n",
            "1050/1050 [==============================] - 1s 1ms/step - loss: 256.8608 - val_loss: 255.4446\n",
            "Epoch 88/100\n",
            "1050/1050 [==============================] - 1s 1ms/step - loss: 255.1366 - val_loss: 270.2450\n",
            "Epoch 89/100\n",
            "1050/1050 [==============================] - 1s 1ms/step - loss: 257.0486 - val_loss: 256.1637\n",
            "Epoch 90/100\n",
            "1050/1050 [==============================] - 1s 1ms/step - loss: 255.7536 - val_loss: 297.3560\n",
            "Epoch 91/100\n",
            "1050/1050 [==============================] - 1s 1ms/step - loss: 255.3300 - val_loss: 306.3378\n",
            "Epoch 92/100\n",
            "1050/1050 [==============================] - 1s 1ms/step - loss: 255.7036 - val_loss: 262.7523\n",
            "Epoch 93/100\n",
            "1050/1050 [==============================] - 1s 1ms/step - loss: 256.0563 - val_loss: 276.1803\n",
            "Epoch 94/100\n",
            "1050/1050 [==============================] - 1s 1ms/step - loss: 256.6952 - val_loss: 254.3860\n",
            "Epoch 95/100\n",
            "1050/1050 [==============================] - 1s 1ms/step - loss: 255.0488 - val_loss: 253.4277\n",
            "Epoch 96/100\n",
            "1050/1050 [==============================] - 1s 1ms/step - loss: 254.3550 - val_loss: 257.1674\n",
            "Epoch 97/100\n",
            "1050/1050 [==============================] - 1s 1ms/step - loss: 255.6957 - val_loss: 264.3031\n",
            "Epoch 98/100\n",
            "1050/1050 [==============================] - 1s 958us/step - loss: 253.1180 - val_loss: 260.2191\n",
            "Epoch 99/100\n",
            "1050/1050 [==============================] - 1s 1ms/step - loss: 253.7471 - val_loss: 264.7256\n",
            "Epoch 100/100\n",
            "1050/1050 [==============================] - 1s 1ms/step - loss: 253.7325 - val_loss: 275.4929\n"
          ],
          "name": "stdout"
        },
        {
          "output_type": "execute_result",
          "data": {
            "text/plain": [
              "<tensorflow.python.keras.callbacks.History at 0x7fd2445e4518>"
            ]
          },
          "metadata": {
            "tags": []
          },
          "execution_count": 126
        }
      ]
    },
    {
      "cell_type": "code",
      "metadata": {
        "id": "DNPC95dqmf2J"
      },
      "source": [
        "Y_pred = model.predict(np.array(X_test))"
      ],
      "execution_count": 128,
      "outputs": []
    },
    {
      "cell_type": "code",
      "metadata": {
        "id": "mMfjm7JEfRrL",
        "outputId": "3c5d929e-b6da-4152-f393-e09719217029",
        "colab": {
          "base_uri": "https://localhost:8080/",
          "height": 336
        }
      },
      "source": [
        "import seaborn as sns\n",
        "%matplotlib inline\n",
        "sns.distplot(y_test-Y_pred)"
      ],
      "execution_count": 129,
      "outputs": [
        {
          "output_type": "stream",
          "text": [
            "/usr/local/lib/python3.6/dist-packages/seaborn/distributions.py:2551: FutureWarning: `distplot` is a deprecated function and will be removed in a future version. Please adapt your code to use either `displot` (a figure-level function with similar flexibility) or `histplot` (an axes-level function for histograms).\n",
            "  warnings.warn(msg, FutureWarning)\n"
          ],
          "name": "stderr"
        },
        {
          "output_type": "execute_result",
          "data": {
            "text/plain": [
              "<matplotlib.axes._subplots.AxesSubplot at 0x7fd242395d68>"
            ]
          },
          "metadata": {
            "tags": []
          },
          "execution_count": 129
        },
        {
          "output_type": "display_data",
          "data": {
            "image/png": "[encoded data removed]",
            "text/plain": [
              "<Figure size 432x288 with 1 Axes>"
            ]
          },
          "metadata": {
            "tags": [],
            "needs_background": "light"
          }
        }
      ]
    },
    {
      "cell_type": "code",
      "metadata": {
        "id": "rFXQoTBBn85c",
        "outputId": "f0a4222d-ab1a-4976-eac0-84e87aff7eb7",
        "colab": {
          "base_uri": "https://localhost:8080/"
        }
      },
      "source": [
        "score = model.evaluate(X_test,y_test)"
      ],
      "execution_count": 130,
      "outputs": [
        {
          "output_type": "stream",
          "text": [
            "87/87 [==============================] - 0s 695us/step - loss: 258.6042\n"
          ],
          "name": "stdout"
        }
      ]
    },
    {
      "cell_type": "code",
      "metadata": {
        "id": "9lUhYMU-utKQ"
      },
      "source": [
        ""
      ],
      "execution_count": null,
      "outputs": []
    },
    {
      "cell_type": "code",
      "metadata": {
        "id": "OdGrSNPpu4-a"
      },
      "source": [
        "# Creating a pickle file for the classifier\n",
        "filename = 'lr-model.pkl'\n",
        "pickle.dump(linear_regressor, open(filename, 'wb'))"
      ],
      "execution_count": 134,
      "outputs": []
    },
    {
      "cell_type": "code",
      "metadata": {
        "id": "YdBUsY9o7ndW"
      },
      "source": [
        ""
      ],
      "execution_count": null,
      "outputs": []
    }
  ]
}